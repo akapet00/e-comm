{
 "cells": [
  {
   "cell_type": "code",
   "execution_count": null,
   "id": "d95c2a07",
   "metadata": {},
   "outputs": [],
   "source": [
    "from typing import Annotated, Any\n",
    "\n",
    "import faiss\n",
    "import numpy as np\n",
    "import pandas as pd\n",
    "from dotenv import load_dotenv\n",
    "from IPython.display import Image\n",
    "from langchain.chat_models import init_chat_model\n",
    "from langchain_core.prompts import ChatPromptTemplate, MessagesPlaceholder\n",
    "from langchain_core.tools import tool\n",
    "from langgraph.checkpoint.memory import MemorySaver\n",
    "from langgraph.graph import START, StateGraph\n",
    "from langgraph.graph.message import BaseMessage, add_messages\n",
    "from langgraph.prebuilt import ToolNode, tools_condition\n",
    "from sentence_transformers import SentenceTransformer\n",
    "from typing_extensions import TypedDict"
   ]
  },
  {
   "cell_type": "code",
   "execution_count": 43,
   "id": "5f6a149c",
   "metadata": {},
   "outputs": [
    {
     "data": {
      "text/plain": [
       "True"
      ]
     },
     "execution_count": 43,
     "metadata": {},
     "output_type": "execute_result"
    }
   ],
   "source": [
    "# load the API key as the environemt variable\n",
    "load_dotenv()"
   ]
  },
  {
   "cell_type": "code",
   "execution_count": 44,
   "id": "b9af9631",
   "metadata": {},
   "outputs": [],
   "source": [
    "# generate synthetic data of advertised products\n",
    "data = {\n",
    "    \"product_id\": [1, 2, 3, 4, 5, 6, 7, 8, 9, 10],\n",
    "    \"product_name\": [\n",
    "        \"Men's Classic Cotton T-Shirt\",\n",
    "        \"Women's High-Waisted Jeans\",\n",
    "        \"Waterproof Hiking Boots\",\n",
    "        \"All-Weather Hiking Backpack\",\n",
    "        \"Merino Wool Hiking Socks\",\n",
    "        \"男士经典棉T恤\",  # Men's Classic Cotton T-Shirt\n",
    "        \"女士高腰牛仔裤\",  # Women's High-Waisted Jeans\n",
    "        \"防水登山鞋\",  # Waterproof Hiking Boots\n",
    "        \"智能手表\",  # Smart Watch\n",
    "        \"无线蓝牙耳机\",  # Wireless Bluetooth Headphones\n",
    "    ],\n",
    "    \"description\": [\n",
    "        \"A comfortable and durable t-shirt for everyday wear.\",\n",
    "        \"Stylish and flattering jeans for any occasion.\",\n",
    "        \"Durable, waterproof boots perfect for any trail or mountain.\",\n",
    "        \"A spacious and comfortable backpack to carry all your gear.\",\n",
    "        \"Warm and breathable socks designed for long hikes.\",\n",
    "        \"舒适耐穿的日常T恤。\",  # Comfortable and durable everyday T-shirt.\n",
    "        \"适合任何场合的时尚修身牛仔裤。\",  # Stylish and flattering jeans for any occasion.\n",
    "        \"耐用、防水的靴子，适合任何小径或山脉。\",  # Durable, waterproof boots perfect for any trail or mountain.\n",
    "        \"一款多功能智能手表，可追踪您的健康和通知。\",  # An all-in-one smartwatch that tracks your health and notifications.\n",
    "        \"提供高品质音效和长续航的无线耳机。\",  # Wireless earphones that deliver high-quality sound and long battery life.\n",
    "    ],\n",
    "    \"category\": [\n",
    "        \"Apparel\",\n",
    "        \"Apparel\",\n",
    "        \"Footwear\",\n",
    "        \"Gear\",\n",
    "        \"Apparel\",\n",
    "        \"服装\",  # Apparel\n",
    "        \"服装\",  # Apparel\n",
    "        \"鞋类\",  # Apparel\n",
    "        \"电子产品\",  # Electronics\n",
    "        \"电子产品\",  # Electronics\n",
    "    ],\n",
    "    \"price\": [\n",
    "        25.00,\n",
    "        75.00,\n",
    "        120.00,\n",
    "        90.00,\n",
    "        15.00,\n",
    "        150.00,\n",
    "        450.00,\n",
    "        700.00,\n",
    "        1500.00,\n",
    "        800.00,\n",
    "    ],\n",
    "}\n",
    "product_catalog = pd.DataFrame(data)"
   ]
  },
  {
   "cell_type": "code",
   "execution_count": 45,
   "id": "ee519d96",
   "metadata": {},
   "outputs": [
    {
     "data": {
      "text/html": [
       "<div>\n",
       "<style scoped>\n",
       "    .dataframe tbody tr th:only-of-type {\n",
       "        vertical-align: middle;\n",
       "    }\n",
       "\n",
       "    .dataframe tbody tr th {\n",
       "        vertical-align: top;\n",
       "    }\n",
       "\n",
       "    .dataframe thead th {\n",
       "        text-align: right;\n",
       "    }\n",
       "</style>\n",
       "<table border=\"1\" class=\"dataframe\">\n",
       "  <thead>\n",
       "    <tr style=\"text-align: right;\">\n",
       "      <th></th>\n",
       "      <th>product_id</th>\n",
       "      <th>product_name</th>\n",
       "      <th>description</th>\n",
       "      <th>category</th>\n",
       "      <th>price</th>\n",
       "    </tr>\n",
       "  </thead>\n",
       "  <tbody>\n",
       "    <tr>\n",
       "      <th>0</th>\n",
       "      <td>1</td>\n",
       "      <td>Men's Classic Cotton T-Shirt</td>\n",
       "      <td>A comfortable and durable t-shirt for everyday...</td>\n",
       "      <td>Apparel</td>\n",
       "      <td>25.0</td>\n",
       "    </tr>\n",
       "    <tr>\n",
       "      <th>1</th>\n",
       "      <td>2</td>\n",
       "      <td>Women's High-Waisted Jeans</td>\n",
       "      <td>Stylish and flattering jeans for any occasion.</td>\n",
       "      <td>Apparel</td>\n",
       "      <td>75.0</td>\n",
       "    </tr>\n",
       "    <tr>\n",
       "      <th>2</th>\n",
       "      <td>3</td>\n",
       "      <td>Waterproof Hiking Boots</td>\n",
       "      <td>Durable, waterproof boots perfect for any trai...</td>\n",
       "      <td>Footwear</td>\n",
       "      <td>120.0</td>\n",
       "    </tr>\n",
       "    <tr>\n",
       "      <th>3</th>\n",
       "      <td>4</td>\n",
       "      <td>All-Weather Hiking Backpack</td>\n",
       "      <td>A spacious and comfortable backpack to carry a...</td>\n",
       "      <td>Gear</td>\n",
       "      <td>90.0</td>\n",
       "    </tr>\n",
       "    <tr>\n",
       "      <th>4</th>\n",
       "      <td>5</td>\n",
       "      <td>Merino Wool Hiking Socks</td>\n",
       "      <td>Warm and breathable socks designed for long hi...</td>\n",
       "      <td>Apparel</td>\n",
       "      <td>15.0</td>\n",
       "    </tr>\n",
       "    <tr>\n",
       "      <th>5</th>\n",
       "      <td>6</td>\n",
       "      <td>男士经典棉T恤</td>\n",
       "      <td>舒适耐穿的日常T恤。</td>\n",
       "      <td>服装</td>\n",
       "      <td>150.0</td>\n",
       "    </tr>\n",
       "    <tr>\n",
       "      <th>6</th>\n",
       "      <td>7</td>\n",
       "      <td>女士高腰牛仔裤</td>\n",
       "      <td>适合任何场合的时尚修身牛仔裤。</td>\n",
       "      <td>服装</td>\n",
       "      <td>450.0</td>\n",
       "    </tr>\n",
       "    <tr>\n",
       "      <th>7</th>\n",
       "      <td>8</td>\n",
       "      <td>防水登山鞋</td>\n",
       "      <td>耐用、防水的靴子，适合任何小径或山脉。</td>\n",
       "      <td>鞋类</td>\n",
       "      <td>700.0</td>\n",
       "    </tr>\n",
       "    <tr>\n",
       "      <th>8</th>\n",
       "      <td>9</td>\n",
       "      <td>智能手表</td>\n",
       "      <td>一款多功能智能手表，可追踪您的健康和通知。</td>\n",
       "      <td>电子产品</td>\n",
       "      <td>1500.0</td>\n",
       "    </tr>\n",
       "    <tr>\n",
       "      <th>9</th>\n",
       "      <td>10</td>\n",
       "      <td>无线蓝牙耳机</td>\n",
       "      <td>提供高品质音效和长续航的无线耳机。</td>\n",
       "      <td>电子产品</td>\n",
       "      <td>800.0</td>\n",
       "    </tr>\n",
       "  </tbody>\n",
       "</table>\n",
       "</div>"
      ],
      "text/plain": [
       "   product_id                  product_name  \\\n",
       "0           1  Men's Classic Cotton T-Shirt   \n",
       "1           2    Women's High-Waisted Jeans   \n",
       "2           3       Waterproof Hiking Boots   \n",
       "3           4   All-Weather Hiking Backpack   \n",
       "4           5      Merino Wool Hiking Socks   \n",
       "5           6                       男士经典棉T恤   \n",
       "6           7                       女士高腰牛仔裤   \n",
       "7           8                         防水登山鞋   \n",
       "8           9                          智能手表   \n",
       "9          10                        无线蓝牙耳机   \n",
       "\n",
       "                                         description  category   price  \n",
       "0  A comfortable and durable t-shirt for everyday...   Apparel    25.0  \n",
       "1     Stylish and flattering jeans for any occasion.   Apparel    75.0  \n",
       "2  Durable, waterproof boots perfect for any trai...  Footwear   120.0  \n",
       "3  A spacious and comfortable backpack to carry a...      Gear    90.0  \n",
       "4  Warm and breathable socks designed for long hi...   Apparel    15.0  \n",
       "5                                         舒适耐穿的日常T恤。        服装   150.0  \n",
       "6                                    适合任何场合的时尚修身牛仔裤。        服装   450.0  \n",
       "7                                耐用、防水的靴子，适合任何小径或山脉。        鞋类   700.0  \n",
       "8                              一款多功能智能手表，可追踪您的健康和通知。      电子产品  1500.0  \n",
       "9                                  提供高品质音效和长续航的无线耳机。      电子产品   800.0  "
      ]
     },
     "execution_count": 45,
     "metadata": {},
     "output_type": "execute_result"
    }
   ],
   "source": [
    "product_catalog"
   ]
  },
  {
   "cell_type": "code",
   "execution_count": 46,
   "id": "d7ecda3b",
   "metadata": {},
   "outputs": [],
   "source": [
    "class Recommender:\n",
    "    \"\"\"Multilingual vector-similarity recommender system.\"\"\"\n",
    "\n",
    "    def __init__(\n",
    "        self,\n",
    "        product_catalog: pd.DataFrame,\n",
    "        model_name: str = \"paraphrase-multilingual-mpnet-base-v2\",\n",
    "    ) -> None:\n",
    "        \"\"\"Instantiate the Recommender class.\"\"\"\n",
    "        self.product_catalog = product_catalog\n",
    "        self.model = SentenceTransformer(model_name)\n",
    "        self._create_vector_store()\n",
    "\n",
    "    def _create_vector_store(self) -> None:\n",
    "        self.product_catalog[\"embedding_text\"] = (\n",
    "            self.product_catalog[\"product_name\"]\n",
    "            + \" | \"\n",
    "            + self.product_catalog[\"description\"]\n",
    "        )\n",
    "        embeddings = self.model.encode(\n",
    "            self.product_catalog[\"embedding_text\"].tolist(),\n",
    "            show_progress_bar=False,\n",
    "        )\n",
    "        self.vector_store = faiss.IndexFlatL2(embeddings.shape[1])\n",
    "        self.vector_store.add(np.array(embeddings, dtype=np.float32))\n",
    "\n",
    "    def recommend_products(self, query: str, k: int = 3) -> list[dict[str, Any]]:\n",
    "        \"\"\"Return the top-K most simlar products based to the query product.\"\"\"\n",
    "        query_embedding = self.model.encode([query])\n",
    "        _, indices = self.vector_store.search(\n",
    "            np.array(query_embedding, dtype=np.float32),\n",
    "            k,\n",
    "        )\n",
    "        results = [self.product_catalog.iloc[i].to_dict() for i in indices[0]]\n",
    "        for r in results:\n",
    "            del r[\"embedding_text\"]  # clean up the dict for LLM processing\n",
    "        return results"
   ]
  },
  {
   "cell_type": "code",
   "execution_count": 47,
   "id": "2f5a5d07",
   "metadata": {},
   "outputs": [],
   "source": [
    "# instantiate the similarity-based recommender and provide the product catalogue\n",
    "recommender = Recommender(product_catalog)"
   ]
  },
  {
   "cell_type": "code",
   "execution_count": 49,
   "id": "5fb9428b",
   "metadata": {},
   "outputs": [
    {
     "data": {
      "text/plain": [
       "[{'product_id': 8,\n",
       "  'product_name': '防水登山鞋',\n",
       "  'description': '耐用、防水的靴子，适合任何小径或山脉。',\n",
       "  'category': '鞋类',\n",
       "  'price': 700.0},\n",
       " {'product_id': 3,\n",
       "  'product_name': 'Waterproof Hiking Boots',\n",
       "  'description': 'Durable, waterproof boots perfect for any trail or mountain.',\n",
       "  'category': 'Footwear',\n",
       "  'price': 120.0},\n",
       " {'product_id': 6,\n",
       "  'product_name': '男士经典棉T恤',\n",
       "  'description': '舒适耐穿的日常T恤。',\n",
       "  'category': '服装',\n",
       "  'price': 150.0}]"
      ]
     },
     "execution_count": 49,
     "metadata": {},
     "output_type": "execute_result"
    }
   ],
   "source": [
    "# try it out\n",
    "recommender.recommend_products(\"Goretex running shoes\")"
   ]
  },
  {
   "cell_type": "code",
   "execution_count": 50,
   "id": "69b6d998",
   "metadata": {},
   "outputs": [],
   "source": [
    "# create the tool for the agentic chatboot to retrieve recommended products\n",
    "@tool\n",
    "def recommend_products_tool(query: str) -> list[dict[str, Any]]:\n",
    "    \"\"\"Use this tool to find products based on what the user is looking for.\"\"\"\n",
    "    print(f\"\\nTOOL CALLED: recommend_products_tool with query = '{query}'\")\n",
    "    return recommender.recommend_products(query)"
   ]
  },
  {
   "cell_type": "code",
   "execution_count": 51,
   "id": "63ee31ec",
   "metadata": {},
   "outputs": [
    {
     "name": "stdout",
     "output_type": "stream",
     "text": [
      "\n",
      "TOOL CALLED: recommend_products_tool with query = 'Goretex running shoes'\n"
     ]
    },
    {
     "data": {
      "text/plain": [
       "[{'product_id': 8,\n",
       "  'product_name': '防水登山鞋',\n",
       "  'description': '耐用、防水的靴子，适合任何小径或山脉。',\n",
       "  'category': '鞋类',\n",
       "  'price': 700.0},\n",
       " {'product_id': 3,\n",
       "  'product_name': 'Waterproof Hiking Boots',\n",
       "  'description': 'Durable, waterproof boots perfect for any trail or mountain.',\n",
       "  'category': 'Footwear',\n",
       "  'price': 120.0},\n",
       " {'product_id': 6,\n",
       "  'product_name': '男士经典棉T恤',\n",
       "  'description': '舒适耐穿的日常T恤。',\n",
       "  'category': '服装',\n",
       "  'price': 150.0}]"
      ]
     },
     "execution_count": 51,
     "metadata": {},
     "output_type": "execute_result"
    }
   ],
   "source": [
    "# try it out again\n",
    "recommend_products_tool.invoke(\"Goretex running shoes\")"
   ]
  },
  {
   "cell_type": "code",
   "execution_count": null,
   "id": "73b6637d",
   "metadata": {},
   "outputs": [],
   "source": [
    "# initialize the LLM and add bind the retrieval tool to it\n",
    "llm = init_chat_model(\"anthropic:claude-3-7-sonnet-latest\", temperature=0.7)\n",
    "tools = [recommend_products_tool]\n",
    "llm_with_tools = llm.bind_tools(tools)"
   ]
  },
  {
   "cell_type": "code",
   "execution_count": null,
   "id": "fd1b8521",
   "metadata": {},
   "outputs": [],
   "source": [
    "class State(TypedDict):\n",
    "    messages: Annotated[list, add_messages]"
   ]
  },
  {
   "cell_type": "code",
   "execution_count": null,
   "id": "36d19933",
   "metadata": {},
   "outputs": [],
   "source": [
    "def chatbot(state: State) -> dict[str, list[BaseMessage]]:\n",
    "    \"\"\"Return the structured response given the current state.\"\"\"\n",
    "    prompt = ChatPromptTemplate.from_messages(\n",
    "        [\n",
    "            (\n",
    "                \"system\",\n",
    "                \"\"\"\"You are a friendly and helpful e-commerce assistant.\n",
    "                Your goal is to help users find products they like given their existing interests and intents.\n",
    "                You MUST use the 'recommend_products_tool' to find products for a user.\n",
    "                Do not make up products.\n",
    "                If the user asks a question in Chinese, you MUST respond in Chinese.\n",
    "                Be short and concise, but persuasive.\n",
    "                \"\"\",\n",
    "            ),\n",
    "            MessagesPlaceholder(variable_name=\"messages\"),\n",
    "        ],\n",
    "    )\n",
    "    chain = prompt | llm_with_tools\n",
    "    response = chain.invoke(state[\"messages\"])\n",
    "    return {\"messages\": [response]}"
   ]
  },
  {
   "cell_type": "code",
   "execution_count": 55,
   "id": "aa1617ec",
   "metadata": {},
   "outputs": [],
   "source": [
    "# build the graph, add the tools and compile it by including the memory\n",
    "graph_builder = StateGraph(State)\n",
    "graph_builder.add_node(\"chatbot\", chatbot)\n",
    "tool_node = ToolNode(tools)\n",
    "graph_builder.add_node(\"tools\", tool_node)\n",
    "graph_builder.add_conditional_edges(\n",
    "    \"chatbot\",\n",
    "    tools_condition,\n",
    ")\n",
    "graph_builder.add_edge(\"tools\", \"chatbot\")\n",
    "graph_builder.add_edge(START, \"chatbot\")\n",
    "memory = MemorySaver()\n",
    "graph = graph_builder.compile(checkpointer=memory)"
   ]
  },
  {
   "cell_type": "code",
   "execution_count": 56,
   "id": "195d4af0",
   "metadata": {},
   "outputs": [
    {
     "data": {
      "image/png": "[encoded data removed]",
      "text/plain": [
       "<IPython.core.display.Image object>"
      ]
     },
     "metadata": {},
     "output_type": "display_data"
    }
   ],
   "source": [
    "display(Image(graph.get_graph().draw_mermaid_png()))"
   ]
  },
  {
   "cell_type": "code",
   "execution_count": 32,
   "id": "16a0eb27",
   "metadata": {},
   "outputs": [],
   "source": [
    "config = {\"configurable\": {\"thread_id\": \"1\"}}"
   ]
  },
  {
   "cell_type": "code",
   "execution_count": 57,
   "id": "64760a9f",
   "metadata": {},
   "outputs": [],
   "source": [
    "def stream_graph_updates(user_input: str) -> None:\n",
    "    \"\"\"Stream graph steps for a single input.\"\"\"\n",
    "    events = graph.stream(\n",
    "        {\"messages\": [{\"role\": \"user\", \"content\": user_input}]},\n",
    "        config,\n",
    "        stream_mode=\"values\",\n",
    "    )\n",
    "    for event in events:\n",
    "        event[\"messages\"][-1].pretty_print()"
   ]
  },
  {
   "cell_type": "code",
   "execution_count": 60,
   "id": "776d249e",
   "metadata": {},
   "outputs": [
    {
     "name": "stdout",
     "output_type": "stream",
     "text": [
      "================================\u001b[1m Human Message \u001b[0m=================================\n",
      "\n",
      "\n",
      "================================\u001b[1m Human Message \u001b[0m=================================\n",
      "\n",
      "Hello. Please, initiate the conversation.\n",
      "==================================\u001b[1m Ai Message \u001b[0m==================================\n",
      "\n",
      "Hi there! I'm your friendly e-commerce assistant. I'm here to help you find products you might be interested in.\n",
      "\n",
      "Is there something specific you're looking for today? Maybe you need:\n",
      "- Electronics like smartphones or laptops\n",
      "- Clothing items\n",
      "- Home goods\n",
      "- Beauty products\n",
      "- Books or entertainment\n",
      "\n",
      "Just let me know what you're searching for, and I can recommend some great options for you!\n",
      "================================\u001b[1m Human Message \u001b[0m=================================\n",
      "\n",
      "\n",
      "================================\u001b[1m Human Message \u001b[0m=================================\n",
      "\n",
      "Hello. Please, initiate the conversation.\n",
      "==================================\u001b[1m Ai Message \u001b[0m==================================\n",
      "\n",
      "Hi there! I'm your friendly e-commerce assistant. I'm here to help you find products you might be interested in.\n",
      "\n",
      "Is there something specific you're looking for today? Maybe you need:\n",
      "- Electronics like smartphones or laptops\n",
      "- Clothing items\n",
      "- Home goods\n",
      "- Beauty products\n",
      "- Books or entertainment\n",
      "\n",
      "Just let me know what you're searching for, and I can recommend some great options for you!\n",
      "================================\u001b[1m Human Message \u001b[0m=================================\n",
      "\n",
      "\n",
      "================================\u001b[1m Human Message \u001b[0m=================================\n",
      "\n",
      "Hello. Please, initiate the conversation.\n",
      "==================================\u001b[1m Ai Message \u001b[0m==================================\n",
      "\n",
      "Hi there! I'm your friendly e-commerce assistant. I'm here to help you find products you might be interested in.\n",
      "\n",
      "Is there something specific you're looking for today? Maybe you need:\n",
      "- Electronics like smartphones or laptops\n",
      "- Clothing items\n",
      "- Home goods\n",
      "- Beauty products\n",
      "- Books or entertainment\n",
      "\n",
      "Just let me know what you're searching for, and I can recommend some great options for you!\n",
      "================================\u001b[1m Human Message \u001b[0m=================================\n",
      "\n",
      "\n",
      "================================\u001b[1m Human Message \u001b[0m=================================\n",
      "\n",
      "Hello. Please, initiate the conversation.\n",
      "==================================\u001b[1m Ai Message \u001b[0m==================================\n",
      "\n",
      "Hi there! I'm your friendly e-commerce assistant. I'm here to help you find products you might be interested in.\n",
      "\n",
      "Is there something specific you're looking for today? Maybe you need:\n",
      "- Electronics like smartphones or laptops\n",
      "- Clothing items\n",
      "- Home goods\n",
      "- Beauty products\n",
      "- Books or entertainment\n",
      "\n",
      "Just let me know what you're searching for, and I can recommend some great options for you!\n",
      "Goodbye!\n"
     ]
    }
   ],
   "source": [
    "while True:\n",
    "    try:\n",
    "        user_input = input(\"User: \")\n",
    "        if user_input.lower() in [\"quit\", \"exit\", \"q\"]:\n",
    "            print(\"Goodbye!\")\n",
    "            break\n",
    "        stream_graph_updates(user_input)\n",
    "    except Exception:\n",
    "        user_input = \"Hello. Please, initiate the conversation.\"\n",
    "        stream_graph_updates(user_input)"
   ]
  },
  {
   "cell_type": "code",
   "execution_count": 41,
   "id": "233b1498",
   "metadata": {},
   "outputs": [
    {
     "data": {
      "text/plain": [
       "StateSnapshot(values={'messages': [HumanMessage(content='hello', additional_kwargs={}, response_metadata={}, id='66e18839-dddc-4f6a-831b-381bc0d6679d'), HumanMessage(content='hello', additional_kwargs={}, response_metadata={}, id='00d0b37b-0599-40af-814e-0489ae8c3e7e'), HumanMessage(content='hello', additional_kwargs={}, response_metadata={}, id='9a836144-aa25-4f93-a851-f716941fe0e1'), HumanMessage(content='hello', additional_kwargs={}, response_metadata={}, id='a1bd881f-76de-4eeb-a9d7-d987c5c0c47d'), AIMessage(content=\"Hello! I'm here to help you find products. Is there something specific you're looking for today? I can recommend products based on your interests or needs. Just let me know what you're interested in, and I'll help you find relevant options.\", additional_kwargs={}, response_metadata={'id': 'msg_01HhSc9srzVcPSTsWPkD3McN', 'model': 'claude-3-7-sonnet-20250219', 'stop_reason': 'end_turn', 'stop_sequence': None, 'usage': {'cache_creation_input_tokens': 0, 'cache_read_input_tokens': 0, 'input_tokens': 463, 'output_tokens': 54, 'server_tool_use': None, 'service_tier': 'standard'}, 'model_name': 'claude-3-7-sonnet-20250219'}, id='run--e335f2ab-6eba-45a6-bf9b-e314e2369cf6-0', usage_metadata={'input_tokens': 463, 'output_tokens': 54, 'total_tokens': 517, 'input_token_details': {'cache_creation': 0, 'cache_read': 0}}), HumanMessage(content=\"i'm looking for a running shoes\", additional_kwargs={}, response_metadata={}, id='b65a21b7-6eed-4869-a397-6d8956266831'), AIMessage(content=[{'text': \"I'd be happy to help you find running shoes! Let me search for some options for you.\", 'type': 'text'}, {'id': 'toolu_01QHTdv1qNhutBJ4v3JQZGAz', 'input': {'query': 'running shoes'}, 'name': 'recommend_products_tool', 'type': 'tool_use'}], additional_kwargs={}, response_metadata={'id': 'msg_01MgJw8cCTYQonw3MU8TtKwE', 'model': 'claude-3-7-sonnet-20250219', 'stop_reason': 'tool_use', 'stop_sequence': None, 'usage': {'cache_creation_input_tokens': 0, 'cache_read_input_tokens': 0, 'input_tokens': 527, 'output_tokens': 77, 'server_tool_use': None, 'service_tier': 'standard'}, 'model_name': 'claude-3-7-sonnet-20250219'}, id='run--6eaabec4-4434-426f-858e-4b0a70e650e5-0', tool_calls=[{'name': 'recommend_products_tool', 'args': {'query': 'running shoes'}, 'id': 'toolu_01QHTdv1qNhutBJ4v3JQZGAz', 'type': 'tool_call'}], usage_metadata={'input_tokens': 527, 'output_tokens': 77, 'total_tokens': 604, 'input_token_details': {'cache_creation': 0, 'cache_read': 0}}), ToolMessage(content='[{\"product_id\": 8, \"product_name\": \"防水登山鞋\", \"description\": \"耐用、防水的靴子，适合任何小径或山脉。\", \"category\": \"鞋类\", \"price\": 700.0}, {\"product_id\": 3, \"product_name\": \"Waterproof Hiking Boots\", \"description\": \"Durable, waterproof boots perfect for any trail or mountain.\", \"category\": \"Footwear\", \"price\": 120.0}, {\"product_id\": 7, \"product_name\": \"女士高腰牛仔裤\", \"description\": \"适合任何场合的时尚修身牛仔裤。\", \"category\": \"服装\", \"price\": 450.0}]', name='recommend_products_tool', id='bc4d060e-1b2f-46f6-b9df-5f8c60d3a068', tool_call_id='toolu_01QHTdv1qNhutBJ4v3JQZGAz'), AIMessage(content=\"Based on your request for running shoes, I've found a few options that might interest you:\\n\\n1. **Waterproof Hiking Boots** - $120.00\\n   - Durable, waterproof boots perfect for any trail or mountain\\n   - Category: Footwear\\n\\n2. **防水登山鞋** (Waterproof Hiking Shoes) - $700.00\\n   - 耐用、防水的靴子，适合任何小径或山脉 (Durable, waterproof boots suitable for any trail or mountain)\\n   - Category: 鞋类 (Footwear)\\n\\nWhile these are technically hiking boots rather than dedicated running shoes, they could be suitable for trail running or outdoor activities. Would you like me to search for more specific running shoes, or would you like more details about any of these options?\", additional_kwargs={}, response_metadata={'id': 'msg_01Yan2tJt9sFz8Phr2LwYSoa', 'model': 'claude-3-7-sonnet-20250219', 'stop_reason': 'end_turn', 'stop_sequence': None, 'usage': {'cache_creation_input_tokens': 0, 'cache_read_input_tokens': 0, 'input_tokens': 806, 'output_tokens': 201, 'server_tool_use': None, 'service_tier': 'standard'}, 'model_name': 'claude-3-7-sonnet-20250219'}, id='run--5e572340-bdc3-44ce-a6b4-edebe2aa632d-0', usage_metadata={'input_tokens': 806, 'output_tokens': 201, 'total_tokens': 1007, 'input_token_details': {'cache_creation': 0, 'cache_read': 0}})]}, next=(), config={'configurable': {'thread_id': '1', 'checkpoint_ns': '', 'checkpoint_id': '1f0431a8-a659-6b25-800c-cdb21a502f5b'}}, metadata={'source': 'loop', 'writes': {'chatbot': {'messages': [AIMessage(content=\"Based on your request for running shoes, I've found a few options that might interest you:\\n\\n1. **Waterproof Hiking Boots** - $120.00\\n   - Durable, waterproof boots perfect for any trail or mountain\\n   - Category: Footwear\\n\\n2. **防水登山鞋** (Waterproof Hiking Shoes) - $700.00\\n   - 耐用、防水的靴子，适合任何小径或山脉 (Durable, waterproof boots suitable for any trail or mountain)\\n   - Category: 鞋类 (Footwear)\\n\\nWhile these are technically hiking boots rather than dedicated running shoes, they could be suitable for trail running or outdoor activities. Would you like me to search for more specific running shoes, or would you like more details about any of these options?\", additional_kwargs={}, response_metadata={'id': 'msg_01Yan2tJt9sFz8Phr2LwYSoa', 'model': 'claude-3-7-sonnet-20250219', 'stop_reason': 'end_turn', 'stop_sequence': None, 'usage': {'cache_creation_input_tokens': 0, 'cache_read_input_tokens': 0, 'input_tokens': 806, 'output_tokens': 201, 'server_tool_use': None, 'service_tier': 'standard'}, 'model_name': 'claude-3-7-sonnet-20250219'}, id='run--5e572340-bdc3-44ce-a6b4-edebe2aa632d-0', usage_metadata={'input_tokens': 806, 'output_tokens': 201, 'total_tokens': 1007, 'input_token_details': {'cache_creation': 0, 'cache_read': 0}})]}}, 'step': 12, 'parents': {}, 'thread_id': '1'}, created_at='2025-06-06T21:09:31.861037+00:00', parent_config={'configurable': {'thread_id': '1', 'checkpoint_ns': '', 'checkpoint_id': '1f0431a8-7f9b-688c-800b-e312e3379bc1'}}, tasks=(), interrupts=())"
      ]
     },
     "execution_count": 41,
     "metadata": {},
     "output_type": "execute_result"
    }
   ],
   "source": [
    "snapshot = graph.get_state(config)\n",
    "snapshot"
   ]
  },
  {
   "cell_type": "code",
   "execution_count": null,
   "id": "02147a8f",
   "metadata": {},
   "outputs": [],
   "source": []
  }
 ],
 "metadata": {
  "kernelspec": {
   "display_name": ".venv",
   "language": "python",
   "name": "python3"
  },
  "language_info": {
   "codemirror_mode": {
    "name": "ipython",
    "version": 3
   },
   "file_extension": ".py",
   "mimetype": "text/x-python",
   "name": "python",
   "nbconvert_exporter": "python",
   "pygments_lexer": "ipython3",
   "version": "3.12.10"
  }
 },
 "nbformat": 4,
 "nbformat_minor": 5
}
